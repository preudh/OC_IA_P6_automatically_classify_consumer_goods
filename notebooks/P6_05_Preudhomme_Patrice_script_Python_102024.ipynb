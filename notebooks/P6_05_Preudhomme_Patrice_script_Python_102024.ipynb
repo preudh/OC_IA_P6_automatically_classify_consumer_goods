{
 "cells": [
  {
   "cell_type": "markdown",
   "id": "10e417b3-b5a7-4109-b12c-ff5d2e2e4fbf",
   "metadata": {},
   "source": [
    "### Projet 6 - Classifiez automatiquement des biens de consommation"
   ]
  },
  {
   "cell_type": "markdown",
   "id": "bf05c0b9-4937-49f2-a250-5741ea167d87",
   "metadata": {
    "tags": []
   },
   "source": [
    "### Objectifs"
   ]
  },
  {
   "cell_type": "markdown",
   "id": "9ceaf564-03b7-4f58-83a7-f390830888ea",
   "metadata": {},
   "source": [
    "- Elargir la gamme de produits à l’épicerie fine. \n",
    "- Tester la collecte de produits à base de “champagne” via l’API \"Edamam Food and Grocery Database\". \n",
    "- Proposer un script ou notebook Python permettant une extraction des 10 premiers produits dans un fichier “.csv”, contenant pour chaque produit les données suivantes : foodId, label, category, foodContentsLabel, image.\n",
    "- Respecter les normes RGPD.\n",
    "- API via la plateforme RapidAPI.com car plus simple pour la documentation ici: https://rapidapi.com/edamam/api/edamam-food-and-grocery-database\n",
    "- API EDAMAN :https://developer.edamam.com/food-database-api"
   ]
  },
  {
   "cell_type": "markdown",
   "id": "72d47b8d-054b-4be8-ae18-305d012d7511",
   "metadata": {
    "tags": []
   },
   "source": [
    "### Imports et configs"
   ]
  },
  {
   "cell_type": "code",
   "id": "f8d75f5a-3768-4b2f-a0af-18724dc44707",
   "metadata": {
    "ExecuteTime": {
     "end_time": "2024-09-27T08:44:08.194788Z",
     "start_time": "2024-09-27T08:44:08.187153Z"
    }
   },
   "source": [
    "import pandas as pd  \n",
    "pd.set_option('display.max_columns', None) # Afficher toutes les colonnes"
   ],
   "outputs": [],
   "execution_count": 28
  },
  {
   "cell_type": "markdown",
   "id": "99786daf-c59d-464a-b4ea-3e12415769b5",
   "metadata": {},
   "source": [
    "### Ecriture et teste de la requête pour obtenir les données via l’API."
   ]
  },
  {
   "cell_type": "markdown",
   "id": "6606e4b1-079c-4fc9-978e-7110653b93b3",
   "metadata": {},
   "source": [
    "#### Choisir l'abonnement à cet API (Basic)\n",
    "https://rapidapi.com/edamam/api/edamam-food-and-grocery-database/playground/apiendpoint_8a93de83-850c-4262-91e7-83267041f4c9"
   ]
  },
  {
   "metadata": {},
   "cell_type": "markdown",
   "source": "### Exemple de requête pour obtenir les données via l’API avec script python",
   "id": "5145e3edc1393369"
  },
  {
   "cell_type": "code",
   "id": "18bd0c4620472767",
   "metadata": {
    "ExecuteTime": {
     "end_time": "2024-09-27T08:44:18.150025Z",
     "start_time": "2024-09-27T08:44:17.739972Z"
    }
   },
   "source": [
    "import requests\n",
    "\n",
    "url = \"https://edamam-food-and-grocery-database.p.rapidapi.com/api/food-database/v2/parser\"\n",
    "\n",
    "querystring = {\n",
    "    \"nutrition-type\": \"cooking\", \n",
    "    \"category[0]\": \"generic-foods\", \n",
    "    \"health[0]\": \"alcohol-free\"\n",
    "}\n",
    "\n",
    "headers = {\n",
    "    \"X-RapidAPI-Key\": \"YOUR_PRIVATE_API_KEY\",  # Clé API privée\n",
    "    \"X-RapidAPI-Host\": \"edamam-food-and-grocery-database.p.rapidapi.com\" # Hôte de l'API\n",
    "}\n",
    "\n",
    "response = requests.get(url, headers=headers, params=querystring)\n",
    "\n",
    "print(response.json())\n"
   ],
   "outputs": [
    {
     "name": "stdout",
     "output_type": "stream",
     "text": [
      "{'message': 'You are not subscribed to this API.'}\n"
     ]
    }
   ],
   "execution_count": 29
  },
  {
   "cell_type": "markdown",
   "id": "3127e944-fff3-4d0c-a0cd-804e5cf8e3ad",
   "metadata": {},
   "source": "### Nous allons récupérer les données depuis l'API en recherchant spécifiquement le champagne comme ingrédient."
  },
  {
   "cell_type": "code",
   "id": "755fb97f4e0f5cf",
   "metadata": {
    "ExecuteTime": {
     "end_time": "2024-09-27T08:44:21.733227Z",
     "start_time": "2024-09-27T08:44:21.094135Z"
    }
   },
   "source": [
    "from dotenv import load_dotenv # Permet de charger les variables d'environnement à partir d'un fichier .env\n",
    "import os\n",
    "\n",
    "api_key = os.getenv(\"RAPIDAPI_KEY\") # Clé API privée\n",
    "\n",
    "\n",
    "# Charger les variables d'environnement depuis le fichier .env\n",
    "load_dotenv() # permet de charger les variables d'environnement depuis le fichier .env et de ne pas les stocker directement dans le code pour des raisons de sécurité\n",
    "\n",
    "url = \"https://edamam-food-and-grocery-database.p.rapidapi.com/api/food-database/v2/parser\" \n",
    "\n",
    "# Champ de recherche pour l'ingrédient \"champagne\" est \"ingr\"\n",
    "querystring = { # Paramètres de la requête GET\n",
    "    \"ingr\": \"champagne\", # Ingrédient à rechercher\n",
    "}\n",
    "\n",
    "\n",
    "headers = {\n",
    "    \"X-RapidAPI-Key\": api_key, # Clé API privée\n",
    "    \"X-RapidAPI-Host\": \"edamam-food-and-grocery-database.p.rapidapi.com\" # Hôte de l'API\n",
    "}\n",
    "\n",
    "response = requests.get(url, headers=headers, params=querystring) # Envoi de la requête GET avec les paramètres\n",
    "data = response.json() # Récupération des données au format JSON"
   ],
   "outputs": [],
   "execution_count": 30
  },
  {
   "metadata": {},
   "cell_type": "markdown",
   "source": "### Filtrage des données conformément aux indications de l'énoncé avec les champs nécessaires : foodId, label, category, foodContentsLabel, image",
   "id": "296e51f50981ec98"
  },
  {
   "cell_type": "code",
   "id": "837177b1-597c-4eb0-aad3-e658e7eab264",
   "metadata": {
    "ExecuteTime": {
     "end_time": "2024-09-27T08:44:25.799885Z",
     "start_time": "2024-09-27T08:44:25.793370Z"
    }
   },
   "source": [
    "# data = response.json()\n",
    "filtered_data = []\n",
    "\n",
    "if \"hints\" in data: # Vérifier si la clé \"hints\" existe dans les données\n",
    "    for item in data[\"hints\"]: # Parcourir les éléments de la liste \"hints\"\n",
    "        food_data = item.get('food', {}) # Récupérer les données de l'aliment\n",
    "        relevant_info = {\n",
    "            'foodId': food_data.get('foodId'), # Identifiant unique de l'aliment\n",
    "            'label': food_data.get('label'), # Nom de l'aliment\n",
    "            'category': food_data.get('category'), # Catégorie de l'aliment\n",
    "            'foodContentsLabel': food_data.get('foodContentsLabel'), # Liste des ingrédients\n",
    "            'image': food_data.get('image') # URL de l'image de l'aliment\n",
    "        }\n",
    "        filtered_data.append(relevant_info) # Ajouter les données filtrées à la liste"
   ],
   "outputs": [],
   "execution_count": 31
  },
  {
   "cell_type": "markdown",
   "id": "2410f234-2e15-41a7-b16c-1715843641d8",
   "metadata": {},
   "source": "### Les données collectées via l’API sont stockées dans un fichier CSV et on récupère les 10 premiers produits."
  },
  {
   "cell_type": "code",
   "id": "fcb78e5b64b946ab",
   "metadata": {
    "ExecuteTime": {
     "end_time": "2024-09-27T08:44:29.853950Z",
     "start_time": "2024-09-27T08:44:29.845981Z"
    }
   },
   "source": [
    "import csv # Module pour la lecture et l'écriture de fichiers CSV\n",
    "import os # Module pour les interactions avec le système d'exploitation\n",
    "\n",
    "# Définir le chemin relatif vers le dossier \"data\"\n",
    "data_folder = os.path.join('..', 'data') # Dossier \"data\" situé dans le répertoire parent\n",
    "csv_file_path = os.path.join(data_folder, 'champagne_data.csv') # Chemin du fichier CSV\n",
    "\n",
    "# Écriture des données filtrées dans un fichier CSV\n",
    "with open(csv_file_path, 'w', newline='') as csvfile: # Ouverture du fichier CSV en mode écriture\n",
    "    fieldnames = [\"foodId\", \"label\", \"category\", \"foodContentsLabel\", \"image\"] # Noms des colonnes\n",
    "    writer = csv.DictWriter(csvfile, fieldnames=fieldnames) # Création d'un objet DictWriter\n",
    "\n",
    "    writer.writeheader() # Écrire les noms des colonnes dans le fichier CSV\n",
    "    # Prendre seulement les 10 premiers éléments de la liste\n",
    "    for row in filtered_data[:10]: # Parcourir les données filtrées\n",
    "        writer.writerow(row) # Écrire les données dans le fichier CSV"
   ],
   "outputs": [],
   "execution_count": 33
  },
  {
   "cell_type": "markdown",
   "id": "7618da63-b19e-4d1c-9473-d34034028fe3",
   "metadata": {},
   "source": "### Lecture du fichier CSV pour vérifier les données"
  },
  {
   "cell_type": "code",
   "id": "2b82f75a2c0956e3",
   "metadata": {
    "ExecuteTime": {
     "end_time": "2024-09-27T08:44:33.178787Z",
     "start_time": "2024-09-27T08:44:33.168208Z"
    }
   },
   "source": [
    "import os\n",
    "import pandas as pd\n",
    "\n",
    "# Définir le chemin relatif vers le dossier \"data\"\n",
    "data_folder = os.path.join('..', 'data') # Dossier \"data\" situé dans le répertoire parent\n",
    "csv_file_path = os.path.join(data_folder, 'champagne_data.csv') # Chemin du fichier CSV\n",
    "\n",
    "# Lecture des données depuis le fichier CSV\n",
    "df = pd.read_csv(csv_file_path, sep=\",\")"
   ],
   "outputs": [],
   "execution_count": 34
  },
  {
   "cell_type": "code",
   "id": "bdd48d92-9cfb-4d6e-92c1-f81974c7b34c",
   "metadata": {
    "ExecuteTime": {
     "end_time": "2024-09-27T08:44:35.875733Z",
     "start_time": "2024-09-27T08:44:35.859151Z"
    }
   },
   "source": [
    "df"
   ],
   "outputs": [
    {
     "data": {
      "text/plain": [
       "                              foodId                             label  \\\n",
       "0  food_a656mk2a5dmqb2adiamu6beihduu                         Champagne   \n",
       "1  food_b753ithamdb8psbt0w2k9aquo06c  Champagne Vinaigrette, Champagne   \n",
       "2  food_b3dyababjo54xobm6r8jzbghjgqe  Champagne Vinaigrette, Champagne   \n",
       "3  food_a9e0ghsamvoc45bwa2ybsa3gken9  Champagne Vinaigrette, Champagne   \n",
       "4  food_an4jjueaucpus2a3u1ni8auhe7q9  Champagne Vinaigrette, Champagne   \n",
       "5  food_bmu5dmkazwuvpaa5prh1daa8jxs0     Champagne Dressing, Champagne   \n",
       "6  food_alpl44taoyv11ra0lic1qa8xculi             Champagne Buttercream   \n",
       "7  food_am5egz6aq3fpjlaf8xpkdbc2asis                Champagne Truffles   \n",
       "8  food_bcz8rhiajk1fuva0vkfmeakbouc0             Champagne Vinaigrette   \n",
       "9  food_a79xmnya6togreaeukbroa0thhh0                 Champagne Chicken   \n",
       "\n",
       "         category                                  foodContentsLabel  \\\n",
       "0   Generic foods                                                NaN   \n",
       "1  Packaged foods  OLIVE OIL; BALSAMIC VINEGAR; CHAMPAGNE VINEGAR...   \n",
       "2  Packaged foods  INGREDIENTS: WATER; CANOLA OIL; CHAMPAGNE VINE...   \n",
       "3  Packaged foods  CANOLA AND SOYBEAN OIL; WHITE WINE (CONTAINS S...   \n",
       "4  Packaged foods  WATER; CANOLA AND SOYBEAN OIL; WHITE WINE (CON...   \n",
       "5  Packaged foods  SOYBEAN OIL; WHITE WINE (PRESERVED WITH SULFIT...   \n",
       "6   Generic meals  sugar; butter; shortening; vanilla; champagne;...   \n",
       "7   Generic meals  butter; cocoa; sweetened condensed milk; vanil...   \n",
       "8   Generic meals  champagne vinegar; olive oil; Dijon mustard; s...   \n",
       "9   Generic meals  Flour; Salt; Pepper; Boneless, Skinless Chicke...   \n",
       "\n",
       "                                               image  \n",
       "0  https://www.edamam.com/food-img/a71/a718cf3c52...  \n",
       "1                                                NaN  \n",
       "2  https://www.edamam.com/food-img/d88/d88b64d973...  \n",
       "3                                                NaN  \n",
       "4                                                NaN  \n",
       "5  https://www.edamam.com/food-img/ab2/ab2459fc2a...  \n",
       "6                                                NaN  \n",
       "7                                                NaN  \n",
       "8                                                NaN  \n",
       "9                                                NaN  "
      ],
      "text/html": [
       "<div>\n",
       "<style scoped>\n",
       "    .dataframe tbody tr th:only-of-type {\n",
       "        vertical-align: middle;\n",
       "    }\n",
       "\n",
       "    .dataframe tbody tr th {\n",
       "        vertical-align: top;\n",
       "    }\n",
       "\n",
       "    .dataframe thead th {\n",
       "        text-align: right;\n",
       "    }\n",
       "</style>\n",
       "<table border=\"1\" class=\"dataframe\">\n",
       "  <thead>\n",
       "    <tr style=\"text-align: right;\">\n",
       "      <th></th>\n",
       "      <th>foodId</th>\n",
       "      <th>label</th>\n",
       "      <th>category</th>\n",
       "      <th>foodContentsLabel</th>\n",
       "      <th>image</th>\n",
       "    </tr>\n",
       "  </thead>\n",
       "  <tbody>\n",
       "    <tr>\n",
       "      <th>0</th>\n",
       "      <td>food_a656mk2a5dmqb2adiamu6beihduu</td>\n",
       "      <td>Champagne</td>\n",
       "      <td>Generic foods</td>\n",
       "      <td>NaN</td>\n",
       "      <td>https://www.edamam.com/food-img/a71/a718cf3c52...</td>\n",
       "    </tr>\n",
       "    <tr>\n",
       "      <th>1</th>\n",
       "      <td>food_b753ithamdb8psbt0w2k9aquo06c</td>\n",
       "      <td>Champagne Vinaigrette, Champagne</td>\n",
       "      <td>Packaged foods</td>\n",
       "      <td>OLIVE OIL; BALSAMIC VINEGAR; CHAMPAGNE VINEGAR...</td>\n",
       "      <td>NaN</td>\n",
       "    </tr>\n",
       "    <tr>\n",
       "      <th>2</th>\n",
       "      <td>food_b3dyababjo54xobm6r8jzbghjgqe</td>\n",
       "      <td>Champagne Vinaigrette, Champagne</td>\n",
       "      <td>Packaged foods</td>\n",
       "      <td>INGREDIENTS: WATER; CANOLA OIL; CHAMPAGNE VINE...</td>\n",
       "      <td>https://www.edamam.com/food-img/d88/d88b64d973...</td>\n",
       "    </tr>\n",
       "    <tr>\n",
       "      <th>3</th>\n",
       "      <td>food_a9e0ghsamvoc45bwa2ybsa3gken9</td>\n",
       "      <td>Champagne Vinaigrette, Champagne</td>\n",
       "      <td>Packaged foods</td>\n",
       "      <td>CANOLA AND SOYBEAN OIL; WHITE WINE (CONTAINS S...</td>\n",
       "      <td>NaN</td>\n",
       "    </tr>\n",
       "    <tr>\n",
       "      <th>4</th>\n",
       "      <td>food_an4jjueaucpus2a3u1ni8auhe7q9</td>\n",
       "      <td>Champagne Vinaigrette, Champagne</td>\n",
       "      <td>Packaged foods</td>\n",
       "      <td>WATER; CANOLA AND SOYBEAN OIL; WHITE WINE (CON...</td>\n",
       "      <td>NaN</td>\n",
       "    </tr>\n",
       "    <tr>\n",
       "      <th>5</th>\n",
       "      <td>food_bmu5dmkazwuvpaa5prh1daa8jxs0</td>\n",
       "      <td>Champagne Dressing, Champagne</td>\n",
       "      <td>Packaged foods</td>\n",
       "      <td>SOYBEAN OIL; WHITE WINE (PRESERVED WITH SULFIT...</td>\n",
       "      <td>https://www.edamam.com/food-img/ab2/ab2459fc2a...</td>\n",
       "    </tr>\n",
       "    <tr>\n",
       "      <th>6</th>\n",
       "      <td>food_alpl44taoyv11ra0lic1qa8xculi</td>\n",
       "      <td>Champagne Buttercream</td>\n",
       "      <td>Generic meals</td>\n",
       "      <td>sugar; butter; shortening; vanilla; champagne;...</td>\n",
       "      <td>NaN</td>\n",
       "    </tr>\n",
       "    <tr>\n",
       "      <th>7</th>\n",
       "      <td>food_am5egz6aq3fpjlaf8xpkdbc2asis</td>\n",
       "      <td>Champagne Truffles</td>\n",
       "      <td>Generic meals</td>\n",
       "      <td>butter; cocoa; sweetened condensed milk; vanil...</td>\n",
       "      <td>NaN</td>\n",
       "    </tr>\n",
       "    <tr>\n",
       "      <th>8</th>\n",
       "      <td>food_bcz8rhiajk1fuva0vkfmeakbouc0</td>\n",
       "      <td>Champagne Vinaigrette</td>\n",
       "      <td>Generic meals</td>\n",
       "      <td>champagne vinegar; olive oil; Dijon mustard; s...</td>\n",
       "      <td>NaN</td>\n",
       "    </tr>\n",
       "    <tr>\n",
       "      <th>9</th>\n",
       "      <td>food_a79xmnya6togreaeukbroa0thhh0</td>\n",
       "      <td>Champagne Chicken</td>\n",
       "      <td>Generic meals</td>\n",
       "      <td>Flour; Salt; Pepper; Boneless, Skinless Chicke...</td>\n",
       "      <td>NaN</td>\n",
       "    </tr>\n",
       "  </tbody>\n",
       "</table>\n",
       "</div>"
      ]
     },
     "execution_count": 35,
     "metadata": {},
     "output_type": "execute_result"
    }
   ],
   "execution_count": 35
  },
  {
   "cell_type": "markdown",
   "id": "7e870385-8668-493f-a4f8-74f6aef349ae",
   "metadata": {},
   "source": "## Respect des normes RGPD et application à l'API"
  },
  {
   "metadata": {},
   "cell_type": "markdown",
   "source": [
    "\n",
    "**Le RGPD** est une réglementation de l'Union européenne visant à protéger les données personnelles des individus. Il repose sur cinq principes clés :\n",
    "\n",
    "1. **Licéité, loyauté et transparence** : Les données doivent être traitées de manière légale, honnête et transparente. Par exemple, les individus doivent être informés de la manière dont leurs données sont utilisées.\n",
    "2. **Limitation des finalités** : Les données doivent être collectées pour des objectifs précis et légitimes. Par exemple, les données collectées pour une commande en ligne ne peuvent pas être utilisées à d'autres fins.\n",
    "3. **Minimisation des données** : Seules les données strictement nécessaires doivent être collectées. Par exemple, un site Web ne doit pas demander des informations inutiles lors de la création d'un compte.\n",
    "4. **Exactitude** : Les données doivent être exactes et mises à jour régulièrement. Par exemple, un site Web doit permettre aux utilisateurs de mettre à jour leurs informations personnelles.\n",
    "5. **Limitation de la conservation** : Les données ne doivent pas être conservées plus longtemps que nécessaire. Par exemple, un site Web doit supprimer les données des utilisateurs inactifs après une certaine période.\n",
    "\n",
    "### Application au projet :\n",
    "- **Licéité et transparence** : Les données sont récupérées légalement via l'API et leur utilisation a été communiquée de manière transparente. Dans le cadre de ce projet, les données sont collectées pour élargir la gamme de produits à l'épicerie fine.\n",
    "- **Limitation des finalités** : Seules les données spécifiques sur les aliments (par exemple, le champagne) sont collectées. Dans ce cas, les données ne seront pas utilisées à d'autres fins. Dans le cadre de ce projet, les données sont collectées pour élargir la gamme de produits à l'épicerie fine.\n",
    "- **Minimisation des données** : Seuls les champs essentiels (foodId, label, category, etc.) sont retenus. Les données collectées sont limitées aux informations nécessaires pour le projet.\n",
    "- **Exactitude** : Les données proviennent directement de l'API, garantissant ainsi leur exactitude. Les données ne sont pas modifiées après leur collecte.\n",
    "- **Limitation de la conservation** : Les données sont conservées uniquement pour la durée du projet. Dans ce cas, les données collectées sont stockées dans un fichier CSV pour une utilisation ultérieure.\n",
    "\n",
    "Cela garantit le respect des principes du RGPD tout au long du traitement des données issues de l'API."
   ],
   "id": "365ecf6c5d9a936a"
  }
 ],
 "metadata": {
  "celltoolbar": "Format de la Cellule Texte Brut",
  "kernelspec": {
   "display_name": "Python 3 (ipykernel)",
   "language": "python",
   "name": "python3"
  },
  "language_info": {
   "codemirror_mode": {
    "name": "ipython",
    "version": 3
   },
   "file_extension": ".py",
   "mimetype": "text/x-python",
   "name": "python",
   "nbconvert_exporter": "python",
   "pygments_lexer": "ipython3",
   "version": "3.11.9"
  },
  "vscode": {
   "interpreter": {
    "hash": "66168a667a11ac16aca0d0d9742c8419f93457ff66115bf85239ea370d417636"
   }
  }
 },
 "nbformat": 4,
 "nbformat_minor": 5
}
