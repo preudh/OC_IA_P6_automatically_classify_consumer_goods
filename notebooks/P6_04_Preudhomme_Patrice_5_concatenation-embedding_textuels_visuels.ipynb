{
 "cells": [
  {
   "metadata": {},
   "cell_type": "code",
   "outputs": [],
   "execution_count": null,
   "source": [
    "import os\n",
    "import numpy as np\n",
    "from sklearn.cluster import KMeans\n",
    "from sklearn import metrics\n",
    "import pandas as pd\n",
    "\n",
    "# Charger les données pour les vraies catégories\n",
    "file_path = os.path.join(\"..\", \"data\", \"preprocessed_product_data.csv\")\n",
    "data = pd.read_csv(file_path)\n",
    "\n",
    "# Charger les embeddings textuels (TF-IDF)\n",
    "text_embedding_file = os.path.join(\"..\", \"data\", \"tfidf_embeddings.npz\")\n",
    "text_data = np.load(text_embedding_file)\n",
    "text_embeddings = text_data['embeddings']\n",
    "product_ids_text = text_data['product_id']\n",
    "\n",
    "# Charger les embeddings visuels (VGG16 - modèle 2)\n",
    "visual_embedding_file = os.path.join(\"..\", \"models\", \"best_model2_vgg16_embeddings.npz\")  # Chemin vers les embeddings VGG16 modèle 2\n",
    "visual_data = np.load(visual_embedding_file)\n",
    "visual_embeddings = visual_data['embeddings']\n",
    "product_ids_visual = visual_data['product_id']\n",
    "\n",
    "# Vérifier que les identifiants de produits sont dans le même ordre (ou les réaligner)\n",
    "assert np.array_equal(product_ids_text, product_ids_visual), \"Les identifiants de produits ne correspondent pas entre les deux embeddings !\"\n",
    "\n",
    "# Concaténer les embeddings textuels et visuels\n",
    "combined_embeddings = np.concatenate([text_embeddings, visual_embeddings], axis=1)\n",
    "\n",
    "# Appliquer KMeans sur les embeddings combinés\n",
    "num_clusters = len(np.unique(data['category_num']))  # Nombre de clusters selon les catégories réelles\n",
    "kmeans = KMeans(n_clusters=num_clusters, random_state=42)\n",
    "kmeans.fit(combined_embeddings)\n",
    "\n",
    "# Labels prédits par KMeans\n",
    "predicted_labels = kmeans.labels_\n",
    "\n",
    "# Vrais labels (catégories réelles)\n",
    "true_labels = data['category_num'].values  # Les vraies catégories doivent être dans votre dataframe\n",
    "\n",
    "# Calculer le score ARI (Adjusted Rand Index)\n",
    "ari_score = metrics.adjusted_rand_score(true_labels, predicted_labels)\n",
    "print(f\"ARI Score for combined text + image embeddings: {ari_score:.4f}\")\n",
    "\n",
    "# Enregistrer les embeddings concaténés\n",
    "output_file_combined = os.path.join(\"..\", \"data\", \"combined_text_image_embeddings.npz\")\n",
    "np.savez_compressed(output_file_combined, product_id=product_ids_text, embeddings=combined_embeddings)\n",
    "print(f\"Combined embeddings have been saved to: {output_file_combined}\")\n"
   ],
   "id": "44ec611998468636"
  }
 ],
 "metadata": {
  "kernelspec": {
   "display_name": "Python 3",
   "language": "python",
   "name": "python3"
  },
  "language_info": {
   "codemirror_mode": {
    "name": "ipython",
    "version": 2
   },
   "file_extension": ".py",
   "mimetype": "text/x-python",
   "name": "python",
   "nbconvert_exporter": "python",
   "pygments_lexer": "ipython2",
   "version": "2.7.6"
  }
 },
 "nbformat": 4,
 "nbformat_minor": 5
}
